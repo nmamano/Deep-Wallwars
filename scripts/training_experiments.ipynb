{
 "cells": [
  {
   "cell_type": "code",
   "execution_count": 1,
   "id": "6f7de520-7e2d-46a8-9801-c8447f673484",
   "metadata": {},
   "outputs": [],
   "source": [
    "import torch\n",
    "import sys\n",
    "import torch.onnx\n",
    "import torch.utils\n",
    "import torch.utils.data\n",
    "import torch.nn.functional as F\n",
    "import torch.nn as nn\n",
    "from model import ResNet\n",
    "\n",
    "device = torch.device(\"cuda:0\")\n",
    "\n",
    "columns = 3\n",
    "rows = 3\n",
    "channels = 16\n",
    "layers = 5\n",
    "epochs = 100\n",
    "training_batch_size = 64\n",
    "inference_batch_size = 256\n",
    "kl_loss_scale = 0.1\n",
    "\n",
    "data_folder = \"../data\"\n",
    "models_folder = \"../models\"\n",
    "generation = 1\n",
    "\n",
    "class Snapshots(torch.utils.data.Dataset):\n",
    "    def __init__(self, file_name):\n",
    "        self.data = [[], [], [], []]\n",
    "        i = 0\n",
    "        with open(file_name) as f:\n",
    "            for line in f.readlines():\n",
    "                if line.strip() == \"\":\n",
    "                    i = 0\n",
    "                    continue\n",
    "\n",
    "                t = torch.tensor([float(x) for x in line.split(\", \")])\n",
    "\n",
    "                if i == 0:\n",
    "                    t = t.view(7, columns, rows)\n",
    "                self.data[i].append(t)\n",
    "                i += 1\n",
    "\n",
    "    def __len__(self):\n",
    "        return len(self.data[0])\n",
    "\n",
    "    def __getitem__(self, index):\n",
    "        return [self.data[x][index] for x in range(4)]"
   ]
  },
  {
   "cell_type": "code",
   "execution_count": 2,
   "id": "17deff99-8d43-42c5-998d-3a2a018cc1d5",
   "metadata": {},
   "outputs": [],
   "source": [
    "def loss_fn(wp_out, sp_out, vs_out, wp_label, sp_label, vs_label):\n",
    "    kl_div = nn.KLDivLoss(reduction='sum')\n",
    "    mse = nn.MSELoss(reduction='sum')\n",
    "    \n",
    "    # Concatenate the outputs to form the complete action distribution\n",
    "    actions_out = torch.cat([wp_out, sp_out], dim=1)\n",
    "    # Apply log_softmax to convert to log probabilities\n",
    "    log_probs = F.log_softmax(actions_out, dim=1)\n",
    "    \n",
    "    # Concatenate the labels to form the complete target distribution\n",
    "    actions_label = torch.cat([wp_label, sp_label], dim=1)\n",
    "    \n",
    "    # Compute the KL divergence loss\n",
    "    kl_loss = kl_loss_scale * kl_div(log_probs, actions_label)\n",
    "    \n",
    "    # Compute the MSE loss for the scalar output\n",
    "    mse_loss = mse(vs_out, vs_label)\n",
    "\n",
    "    return (kl_loss, mse_loss)\n",
    "\n",
    "\n",
    "def save_model(model, folder):\n",
    "    torch.save(model, f\"{folder}/model_{generation}.pt\")\n",
    "    input_names = [\"States\"]\n",
    "    output_names = [\"WallPriors\", \"StepPriors\", \"Values\"]\n",
    "    dummy_input = torch.randn(inference_batch_size, 7, columns, rows).to(device)\n",
    "    torch.onnx.export(\n",
    "        model,\n",
    "        dummy_input,\n",
    "        f\"{folder}/model_{generation}.onnx\",\n",
    "        input_names=input_names,\n",
    "        output_names=output_names,\n",
    "    )"
   ]
  },
  {
   "cell_type": "code",
   "execution_count": 3,
   "id": "5aba22da-d7c8-4214-9b14-102331726bb4",
   "metadata": {},
   "outputs": [],
   "source": [
    "model = torch.load(f\"{models_folder}/model_{generation - 1}.pt\").to(device)"
   ]
  },
  {
   "cell_type": "code",
   "execution_count": 4,
   "id": "7cae0251-928b-44eb-bfb2-4a400bba1adf",
   "metadata": {},
   "outputs": [],
   "source": [
    "training_window = range((generation - 1) // 2, generation)\n",
    "snapshots = torch.utils.data.ConcatDataset(\n",
    "    [Snapshots(f\"{data_folder}/snapshots_{i}.csv\") for i in training_window]\n",
    ")\n",
    "training_data, eval_data = torch.utils.data.random_split(snapshots, [0.8, 0.2])\n",
    "training_loader = torch.utils.data.DataLoader(\n",
    "    training_data,\n",
    "    batch_size=training_batch_size,\n",
    "    shuffle=True,\n",
    "    num_workers=4,\n",
    "    pin_memory=True,\n",
    ")\n",
    "eval_loader = torch.utils.data.DataLoader(\n",
    "    eval_data,\n",
    "    batch_size=training_batch_size,\n",
    "    num_workers=4,\n",
    "    pin_memory=True,\n",
    "    shuffle=False,\n",
    ")\n",
    "optimizer = torch.optim.AdamW(model.parameters(), lr=0.02)"
   ]
  },
  {
   "cell_type": "code",
   "execution_count": 5,
   "id": "b5c56510-de5b-4897-bda8-d95fd99ad212",
   "metadata": {},
   "outputs": [],
   "source": [
    "import matplotlib.pyplot as plt\n",
    "\n",
    "def plot_tensor(mat, cmap='viridis'):\n",
    "    \"\"\"\n",
    "    Plots a 2D PyTorch tensor as an n x n grid of squares with colors representing the tensor values.\n",
    "\n",
    "    Parameters:\n",
    "    - mat: 2D PyTorch tensor of floats.\n",
    "    - cmap: Colormap for visualizing the values in the tensor.\n",
    "    \"\"\"\n",
    "    # Ensure mat is a 2D tensor\n",
    "    if mat.dim() != 2:\n",
    "        raise ValueError(\"Input tensor must be 2D\")\n",
    "\n",
    "    # Convert the tensor to a NumPy array\n",
    "    matrix = mat.numpy()\n",
    "\n",
    "    # Plotting the matrix\n",
    "    plt.figure(figsize=(6,6))  # Adjust the figure size as needed\n",
    "    plt.imshow(matrix, cmap=cmap, interpolation='nearest')  # Use specified colormap\n",
    "    plt.colorbar()  # Show color scale\n",
    "    plt.xticks(range(matrix.shape[0]))  # Adjust ticks based on tensor size\n",
    "    plt.yticks(range(matrix.shape[1]))\n",
    "    plt.grid(False)  # Turn off the grid\n",
    "    plt.show()"
   ]
  },
  {
   "cell_type": "code",
   "execution_count": 6,
   "id": "812a3b40-e684-4e6c-a626-7aa278ac4bc8",
   "metadata": {},
   "outputs": [
    {
     "data": {
      "image/png": "[encoded data removed]",
      "text/plain": [
       "<Figure size 600x600 with 2 Axes>"
      ]
     },
     "metadata": {},
     "output_type": "display_data"
    }
   ],
   "source": [
    "plot_tensor(snapshots[2][0][0])"
   ]
  },
  {
   "cell_type": "code",
   "execution_count": 7,
   "id": "d9072c98-8c6b-48dc-b01c-e14007e34744",
   "metadata": {},
   "outputs": [
    {
     "data": {
      "text/plain": [
       "[tensor([[[0.0000, 0.1111, 0.2222],\n",
       "          [0.1111, 0.2222, 0.3333],\n",
       "          [0.2222, 0.3333, 0.4444]],\n",
       " \n",
       "         [[0.4444, 0.3333, 0.2222],\n",
       "          [0.3333, 0.2222, 0.1111],\n",
       "          [0.2222, 0.1111, 0.0000]],\n",
       " \n",
       "         [[0.2222, 0.1111, 0.0000],\n",
       "          [0.3333, 0.2222, 0.1111],\n",
       "          [0.4444, 0.3333, 0.2222]],\n",
       " \n",
       "         [[0.2222, 0.3333, 0.4444],\n",
       "          [0.1111, 0.2222, 0.3333],\n",
       "          [0.0000, 0.1111, 0.2222]],\n",
       " \n",
       "         [[0.0000, 0.0000, 1.0000],\n",
       "          [0.0000, 0.0000, 1.0000],\n",
       "          [0.0000, 0.0000, 1.0000]],\n",
       " \n",
       "         [[0.0000, 0.0000, 0.0000],\n",
       "          [0.0000, 0.0000, 0.0000],\n",
       "          [1.0000, 1.0000, 1.0000]],\n",
       " \n",
       "         [[0.0000, 0.0000, 0.0000],\n",
       "          [0.0000, 0.0000, 0.0000],\n",
       "          [0.0000, 0.0000, 0.0000]]]),\n",
       " tensor([0.0200, 0.0240, 0.0000, 0.0240, 0.0240, 0.0000, 0.0440, 0.0240, 0.0000,\n",
       "         0.0200, 0.0240, 0.0240, 0.0240, 0.0740, 0.0260, 0.0000, 0.0000, 0.0000]),\n",
       " tensor([0.2000, 0.4480, 0.0000, 0.0000]),\n",
       " tensor([1.])]"
      ]
     },
     "execution_count": 7,
     "metadata": {},
     "output_type": "execute_result"
    }
   ],
   "source": [
    "snapshots[0]"
   ]
  },
  {
   "cell_type": "code",
   "execution_count": 8,
   "id": "45e2a186-0104-4495-b63d-150a2074fca0",
   "metadata": {},
   "outputs": [
    {
     "name": "stdout",
     "output_type": "stream",
     "text": [
      "Training loss in epoch 0 of generation 1: 0.12040106638762495 + 0.13458752629413784 = 0.25498859268176277.\n",
      "Evaluation loss in epoch 0 of generation 1: 0.11795403501291009 + 0.1170065313120169 = 0.234960566324927.\n",
      "Training loss in epoch 1 of generation 1: 0.12840064112462793 + 1.0217612264748044 = 1.1501618675994325.\n",
      "Evaluation loss in epoch 1 of generation 1: 0.13682486475939862 + 1.8491846701432 = 1.9860095349025986.\n",
      "Training loss in epoch 2 of generation 1: 0.1364523731744827 + 1.8756484405967824 = 2.0121008137712653.\n",
      "Evaluation loss in epoch 2 of generation 1: 0.13682486475939862 + 1.815412631404685 = 1.9522374961640836.\n",
      "Training loss in epoch 3 of generation 1: 0.1364523734001878 + 1.8491526475883047 = 1.9856050209884926.\n",
      "Evaluation loss in epoch 3 of generation 1: 0.13682486475939862 + 1.815412631404685 = 1.9522374961640836.\n",
      "Training loss in epoch 4 of generation 1: 0.1364523731609157 + 1.8491526475883047 = 1.9856050207492204.\n",
      "Evaluation loss in epoch 4 of generation 1: 0.13682486475939862 + 1.815412631404685 = 1.9522374961640836.\n",
      "Training loss in epoch 5 of generation 1: 0.1364523734186882 + 1.8491526475883047 = 1.9856050210069929.\n",
      "Evaluation loss in epoch 5 of generation 1: 0.13682486475939862 + 1.815412631404685 = 1.9522374961640836.\n",
      "Training loss in epoch 6 of generation 1: 0.1364523731239149 + 1.8491526475883047 = 1.9856050207122196.\n",
      "Evaluation loss in epoch 6 of generation 1: 0.13682486499621865 + 1.815412631404685 = 1.9522374964009037.\n",
      "Training loss in epoch 7 of generation 1: 0.13645548976466457 + 1.8491526475883047 = 1.9856081373529693.\n",
      "Evaluation loss in epoch 7 of generation 1: 0.1368248619964981 + 1.815412631404685 = 1.9522374934011832.\n",
      "Training loss in epoch 8 of generation 1: 0.13140453011846473 + 1.4097490854476766 = 1.5411536155661414.\n",
      "Evaluation loss in epoch 8 of generation 1: 0.1180514842900858 + 0.11005122517426374 = 0.22810270946434955.\n",
      "Training loss in epoch 9 of generation 1: 0.1123396043133454 + 0.10413779306949134 = 0.21647739738283672.\n",
      "Evaluation loss in epoch 9 of generation 1: 0.11171278560036273 + 0.10438279936831871 = 0.21609558496868145.\n",
      "Training loss in epoch 10 of generation 1: 0.11112229066461736 + 0.09847203377254027 = 0.20959432443715761.\n",
      "Evaluation loss in epoch 10 of generation 1: 0.11116127489852684 + 0.09850179613858903 = 0.20966307103711587.\n",
      "Training loss in epoch 11 of generation 1: 0.11074899919556933 + 0.09320182661081954 = 0.20395082580638885.\n",
      "Evaluation loss in epoch 11 of generation 1: 0.11092340041347593 + 0.09833844091785476 = 0.2092618413313307.\n",
      "Training loss in epoch 12 of generation 1: 0.11044755292086292 + 0.09246772193620043 = 0.20291527485706334.\n",
      "Evaluation loss in epoch 12 of generation 1: 0.11140549343732126 + 0.08730296507602954 = 0.1987084585133508.\n",
      "Training loss in epoch 13 of generation 1: 0.1104802115547602 + 0.09184930455555128 = 0.20232951611031147.\n",
      "Evaluation loss in epoch 13 of generation 1: 0.11084603181827464 + 0.0915614754361197 = 0.20240750725439433.\n",
      "Training loss in epoch 14 of generation 1: 0.11003579735610383 + 0.0914529180885549 = 0.20148871544465874.\n",
      "Evaluation loss in epoch 14 of generation 1: 0.10991000221340223 + 0.08911920259867408 = 0.1990292048120763.\n",
      "Training loss in epoch 15 of generation 1: 0.10927604567660007 + 0.08836905575209046 = 0.19764510142869054.\n",
      "Evaluation loss in epoch 15 of generation 1: 0.10854824208412016 + 0.08513065287454043 = 0.19367889495866059.\n",
      "Training loss in epoch 16 of generation 1: 0.10870210690203036 + 0.08939233010226884 = 0.1980944370042992.\n",
      "Evaluation loss in epoch 16 of generation 1: 0.10847039313893002 + 0.08637540992640785 = 0.19484580306533789.\n",
      "Training loss in epoch 17 of generation 1: 0.10772765511218467 + 0.08792201117626779 = 0.19564966628845246.\n",
      "Evaluation loss in epoch 17 of generation 1: 0.1080641378660528 + 0.0863079057616177 = 0.1943720436276705.\n",
      "Training loss in epoch 18 of generation 1: 0.1080997568156897 + 0.08957730924328405 = 0.19767706605897375.\n",
      "Evaluation loss in epoch 18 of generation 1: 0.10759604059103635 + 0.08303668151829537 = 0.19063272210933171.\n",
      "Training loss in epoch 19 of generation 1: 0.10702250134896321 + 0.08665543581194955 = 0.19367793716091278.\n",
      "Evaluation loss in epoch 19 of generation 1: 0.10668770172236604 + 0.08393221843070951 = 0.19061992015307555.\n",
      "Training loss in epoch 20 of generation 1: 0.10692184089610363 + 0.08727751078793795 = 0.19419935168404157.\n",
      "Evaluation loss in epoch 20 of generation 1: 0.10743887812656516 + 0.0878986084096608 = 0.19533748653622596.\n",
      "Training loss in epoch 21 of generation 1: 0.10704892445171035 + 0.08786466160565508 = 0.19491358605736545.\n",
      "Evaluation loss in epoch 21 of generation 1: 0.10700213886453916 + 0.08429452723747709 = 0.19129666610201623.\n",
      "Training loss in epoch 22 of generation 1: 0.10633077121480014 + 0.08573979993813141 = 0.19207057115293155.\n",
      "Evaluation loss in epoch 22 of generation 1: 0.10653474016918192 + 0.08789488906807832 = 0.19442962923726023.\n",
      "Training loss in epoch 23 of generation 1: 0.10672886716287659 + 0.08650776713733174 = 0.19323663430020832.\n",
      "Evaluation loss in epoch 23 of generation 1: 0.10697942774339816 + 0.08445041076023545 = 0.1914298385036336.\n",
      "Training loss in epoch 24 of generation 1: 0.10616668336605116 + 0.08540171115875074 = 0.1915683945248019.\n",
      "Evaluation loss in epoch 24 of generation 1: 0.10678858931081775 + 0.08376404592364486 = 0.19055263523446261.\n",
      "Training loss in epoch 25 of generation 1: 0.10644225911464411 + 0.08631193267060994 = 0.19275419178525405.\n",
      "Evaluation loss in epoch 25 of generation 1: 0.106709639586594 + 0.08844113556700386 = 0.19515077515359786.\n",
      "Training loss in epoch 26 of generation 1: 0.1062400861228672 + 0.08462601451640954 = 0.19086610063927675.\n",
      "Evaluation loss in epoch 26 of generation 1: 0.10621994613920277 + 0.0807296324614736 = 0.18694957860067637.\n",
      "Training loss in epoch 27 of generation 1: 0.10737480629047187 + 0.0906158088681516 = 0.19799061515862348.\n",
      "Evaluation loss in epoch 27 of generation 1: 0.10744273466203852 + 0.08954010451718697 = 0.1969828391792255.\n",
      "Training loss in epoch 28 of generation 1: 0.10637750973319529 + 0.08719676663697253 = 0.19357427637016783.\n",
      "Evaluation loss in epoch 28 of generation 1: 0.10626832342199138 + 0.08775595608318831 = 0.1940242795051797.\n",
      "Training loss in epoch 29 of generation 1: 0.10652109239271466 + 0.0860200461449533 = 0.19254113853766797.\n",
      "Evaluation loss in epoch 29 of generation 1: 0.10815569403431843 + 0.08744527193062472 = 0.19560096596494317.\n",
      "Training loss in epoch 30 of generation 1: 0.10672672299656746 + 0.08594864585321657 = 0.19267536884978403.\n",
      "Evaluation loss in epoch 30 of generation 1: 0.10792378042818014 + 0.08424973366607075 = 0.1921735140942509.\n",
      "Trainig was interrupted.\n"
     ]
    }
   ],
   "source": [
    "\n",
    "\n",
    "try:\n",
    "    for epoch in range(1000):\n",
    "        total_kl_loss = 0\n",
    "        total_mse_loss = 0\n",
    "        for states, wall_priors, step_priors, values in training_loader:\n",
    "            states = states.to(device)\n",
    "            wall_priors = wall_priors.to(device)\n",
    "            step_priors = step_priors.to(device)\n",
    "            values = values.to(device)\n",
    "    \n",
    "            optimizer.zero_grad()\n",
    "            wp, sp, vs = model.forward(states)\n",
    "            kl_loss, mse_loss = loss_fn(wp, sp, vs, wall_priors, step_priors, values)\n",
    "            total_kl_loss += float(kl_loss)\n",
    "            total_mse_loss += float(mse_loss)\n",
    "\n",
    "            loss = kl_loss + mse_loss\n",
    "            loss.backward()\n",
    "            optimizer.step()\n",
    "            del loss\n",
    "        print(\n",
    "            f\"Training loss in epoch {epoch} of generation {generation}: {total_kl_loss / len(training_data)} + {total_mse_loss / len(training_data)} = {(total_kl_loss + total_mse_loss) / len(training_data)}.\"\n",
    "        )\n",
    "        \n",
    "        model.train(False)\n",
    "        total_kl_loss = 0\n",
    "        total_mse_loss = 0\n",
    "        for states, wall_priors, step_priors, values in eval_loader:\n",
    "            states = states.to(device)\n",
    "            wall_priors = wall_priors.to(device)\n",
    "            step_priors = step_priors.to(device)\n",
    "            values = values.to(device)\n",
    "            wp, sp, vs = model.forward(states)\n",
    "            kl_loss, mse_loss = loss_fn(wp, sp, vs, wall_priors, step_priors, values)\n",
    "            total_kl_loss += float(kl_loss)\n",
    "            total_mse_loss += float(mse_loss)\n",
    "        print(\n",
    "            f\"Evaluation loss in epoch {epoch} of generation {generation}: {total_kl_loss / len(eval_data)} + {total_mse_loss / len(eval_data)} = {(total_kl_loss + total_mse_loss) / len(eval_data)}.\"\n",
    "        )\n",
    "except KeyboardInterrupt:\n",
    "    print(\"Trainig was interrupted.\")"
   ]
  },
  {
   "cell_type": "code",
   "execution_count": 9,
   "id": "ced9ae19-cfea-4b36-9f0b-52d55b3379ef",
   "metadata": {},
   "outputs": [],
   "source": [
    "initial_state = torch.unsqueeze(snapshots[0][0], 0).to(device)"
   ]
  },
  {
   "cell_type": "code",
   "execution_count": 10,
   "id": "0da072fb-1e1b-4c9e-bb6b-9f607d1859ec",
   "metadata": {},
   "outputs": [
    {
     "data": {
      "text/plain": [
       "(tensor([[1.3669e-04, 6.8333e-12, 9.3426e-12, 2.3319e-12, 3.1439e-12, 9.1561e-12,\n",
       "          2.7555e-11, 3.3933e-07, 8.5234e-12, 1.3690e-06, 8.1702e-10, 2.3860e-12,\n",
       "          3.5768e-10, 1.6445e-19, 7.3545e-11, 9.4305e-12, 9.1262e-12, 9.4213e-12]],\n",
       "        device='cuda:0', grad_fn=<SigmoidBackward0>),\n",
       " tensor([[9.9592e-01, 9.9970e-01, 1.9444e-09, 3.9429e-06]], device='cuda:0',\n",
       "        grad_fn=<SigmoidBackward0>),\n",
       " tensor([[0.9198]], device='cuda:0', grad_fn=<TanhBackward0>))"
      ]
     },
     "execution_count": 10,
     "metadata": {},
     "output_type": "execute_result"
    }
   ],
   "source": [
    "model.forward(initial_state)"
   ]
  },
  {
   "cell_type": "code",
   "execution_count": 16,
   "id": "f7d7d78a-a365-49db-acd5-9457152eb041",
   "metadata": {},
   "outputs": [],
   "source": [
    "save_model(model, models_folder)"
   ]
  }
 ],
 "metadata": {
  "kernelspec": {
   "display_name": "Python 3 (ipykernel)",
   "language": "python",
   "name": "python3"
  },
  "language_info": {
   "codemirror_mode": {
    "name": "ipython",
    "version": 3
   },
   "file_extension": ".py",
   "mimetype": "text/x-python",
   "name": "python",
   "nbconvert_exporter": "python",
   "pygments_lexer": "ipython3",
   "version": "3.11.7"
  }
 },
 "nbformat": 4,
 "nbformat_minor": 5
}
