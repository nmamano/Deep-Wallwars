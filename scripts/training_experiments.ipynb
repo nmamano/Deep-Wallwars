{
 "cells": [
  {
   "cell_type": "code",
   "execution_count": 29,
   "id": "6f7de520-7e2d-46a8-9801-c8447f673484",
   "metadata": {},
   "outputs": [],
   "source": [
    "import torch\n",
    "import sys\n",
    "import torch.onnx\n",
    "import torch.utils\n",
    "import torch.utils.data\n",
    "import torch.nn.functional as F\n",
    "import torch.nn as nn\n",
    "from model import ResNet\n",
    "\n",
    "device = torch.device(\"cuda:0\")\n",
    "\n",
    "columns = 3\n",
    "rows = 3\n",
    "channels = 16\n",
    "layers = 5\n",
    "epochs = 100\n",
    "training_batch_size = 64\n",
    "inference_batch_size = 256\n",
    "kl_loss_scale = 0.1\n",
    "\n",
    "data_folder = \"../data\"\n",
    "models_folder = \"../models\"\n",
    "generation = 1\n",
    "\n",
    "class Snapshots(torch.utils.data.Dataset):\n",
    "    def __init__(self, file_name):\n",
    "        self.data = [[], [], [], []]\n",
    "        i = 0\n",
    "        with open(file_name) as f:\n",
    "            for line in f.readlines():\n",
    "                if line.strip() == \"\":\n",
    "                    i = 0\n",
    "                    continue\n",
    "\n",
    "                t = torch.tensor([float(x) for x in line.split(\", \")])\n",
    "\n",
    "                if i == 0:\n",
    "                    t = t.view(7, columns, rows)\n",
    "                self.data[i].append(t)\n",
    "                i += 1\n",
    "\n",
    "    def __len__(self):\n",
    "        return len(self.data[0])\n",
    "\n",
    "    def __getitem__(self, index):\n",
    "        return [self.data[x][index] for x in range(4)]"
   ]
  },
  {
   "cell_type": "code",
   "execution_count": 28,
   "id": "17deff99-8d43-42c5-998d-3a2a018cc1d5",
   "metadata": {},
   "outputs": [],
   "source": [
    "def loss_fn(wp_out, sp_out, vs_out, wp_label, sp_label, vs_label):\n",
    "    kl_div = nn.KLDivLoss(reduction='sum')\n",
    "    mse = nn.MSELoss(reduction='sum')\n",
    "    \n",
    "    # Concatenate the outputs to form the complete action distribution\n",
    "    actions_out = torch.cat([wp_out, sp_out], dim=1)\n",
    "    # Apply log_softmax to convert to log probabilities\n",
    "    log_probs = F.log_softmax(actions_out, dim=1)\n",
    "    \n",
    "    # Concatenate the labels to form the complete target distribution\n",
    "    actions_label = torch.cat([wp_label, sp_label], dim=1)\n",
    "    \n",
    "    # Compute the KL divergence loss\n",
    "    kl_loss = kl_loss_scale * kl_div(log_probs, actions_label)\n",
    "    \n",
    "    # Compute the MSE loss for the scalar output\n",
    "    mse_loss = mse(vs_out, vs_label)\n",
    "\n",
    "    return (kl_loss, mse_loss)\n",
    "\n",
    "\n",
    "def save_model(model, folder):\n",
    "    torch.save(model, f\"{folder}/model_{generation}.pt\")\n",
    "    input_names = [\"States\"]\n",
    "    output_names = [\"WallPriors\", \"StepPriors\", \"Values\"]\n",
    "    dummy_input = torch.randn(inference_batch_size, 7, columns, rows).to(device)\n",
    "    torch.onnx.export(\n",
    "        model,\n",
    "        dummy_input,\n",
    "        f\"{folder}/model_{generation}.onnx\",\n",
    "        input_names=input_names,\n",
    "        output_names=output_names,\n",
    "    )"
   ]
  },
  {
   "cell_type": "code",
   "execution_count": 3,
   "id": "5aba22da-d7c8-4214-9b14-102331726bb4",
   "metadata": {},
   "outputs": [],
   "source": [
    "model = torch.load(f\"{models_folder}/model_{generation - 1}.pt\").to(device)"
   ]
  },
  {
   "cell_type": "code",
   "execution_count": 4,
   "id": "7cae0251-928b-44eb-bfb2-4a400bba1adf",
   "metadata": {},
   "outputs": [],
   "source": [
    "training_window = range((generation - 1) // 2, generation)\n",
    "snapshots = torch.utils.data.ConcatDataset(\n",
    "    [Snapshots(f\"{data_folder}/snapshots_{i}.csv\") for i in training_window]\n",
    ")\n",
    "training_data, eval_data = torch.utils.data.random_split(snapshots, [0.8, 0.2])\n",
    "training_loader = torch.utils.data.DataLoader(\n",
    "    training_data,\n",
    "    batch_size=training_batch_size,\n",
    "    shuffle=True,\n",
    "    num_workers=4,\n",
    "    pin_memory=True,\n",
    ")\n",
    "eval_loader = torch.utils.data.DataLoader(\n",
    "    eval_data,\n",
    "    batch_size=training_batch_size,\n",
    "    num_workers=4,\n",
    "    pin_memory=True,\n",
    "    shuffle=False,\n",
    ")\n",
    "optimizer = torch.optim.AdamW(model.parameters(), lr=0.02)"
   ]
  },
  {
   "cell_type": "code",
   "execution_count": 5,
   "id": "b5c56510-de5b-4897-bda8-d95fd99ad212",
   "metadata": {},
   "outputs": [],
   "source": [
    "import matplotlib.pyplot as plt\n",
    "\n",
    "def plot_tensor(mat, cmap='viridis'):\n",
    "    \"\"\"\n",
    "    Plots a 2D PyTorch tensor as an n x n grid of squares with colors representing the tensor values.\n",
    "\n",
    "    Parameters:\n",
    "    - mat: 2D PyTorch tensor of floats.\n",
    "    - cmap: Colormap for visualizing the values in the tensor.\n",
    "    \"\"\"\n",
    "    # Ensure mat is a 2D tensor\n",
    "    if mat.dim() != 2:\n",
    "        raise ValueError(\"Input tensor must be 2D\")\n",
    "\n",
    "    # Convert the tensor to a NumPy array\n",
    "    matrix = mat.numpy()\n",
    "\n",
    "    # Plotting the matrix\n",
    "    plt.figure(figsize=(6,6))  # Adjust the figure size as needed\n",
    "    plt.imshow(matrix, cmap=cmap, interpolation='nearest')  # Use specified colormap\n",
    "    plt.colorbar()  # Show color scale\n",
    "    plt.xticks(range(matrix.shape[0]))  # Adjust ticks based on tensor size\n",
    "    plt.yticks(range(matrix.shape[1]))\n",
    "    plt.grid(False)  # Turn off the grid\n",
    "    plt.show()"
   ]
  },
  {
   "cell_type": "code",
   "execution_count": 6,
   "id": "812a3b40-e684-4e6c-a626-7aa278ac4bc8",
   "metadata": {},
   "outputs": [
    {
     "data": {
      "image/png": "[encoded data removed]",
      "text/plain": [
       "<Figure size 600x600 with 2 Axes>"
      ]
     },
     "metadata": {},
     "output_type": "display_data"
    }
   ],
   "source": [
    "plot_tensor(snapshots[2][0][0])"
   ]
  },
  {
   "cell_type": "code",
   "execution_count": 7,
   "id": "d9072c98-8c6b-48dc-b01c-e14007e34744",
   "metadata": {},
   "outputs": [
    {
     "data": {
      "text/plain": [
       "[tensor([[[0.0000, 0.1111, 0.2222],\n",
       "          [0.1111, 0.2222, 0.3333],\n",
       "          [0.2222, 0.3333, 0.4444]],\n",
       " \n",
       "         [[0.4444, 0.3333, 0.2222],\n",
       "          [0.3333, 0.2222, 0.1111],\n",
       "          [0.2222, 0.1111, 0.0000]],\n",
       " \n",
       "         [[0.2222, 0.1111, 0.0000],\n",
       "          [0.3333, 0.2222, 0.1111],\n",
       "          [0.4444, 0.3333, 0.2222]],\n",
       " \n",
       "         [[0.2222, 0.3333, 0.4444],\n",
       "          [0.1111, 0.2222, 0.3333],\n",
       "          [0.0000, 0.1111, 0.2222]],\n",
       " \n",
       "         [[0.0000, 0.0000, 1.0000],\n",
       "          [0.0000, 0.0000, 1.0000],\n",
       "          [0.0000, 0.0000, 1.0000]],\n",
       " \n",
       "         [[0.0000, 0.0000, 0.0000],\n",
       "          [0.0000, 0.0000, 0.0000],\n",
       "          [1.0000, 1.0000, 1.0000]],\n",
       " \n",
       "         [[0.0000, 0.0000, 0.0000],\n",
       "          [0.0000, 0.0000, 0.0000],\n",
       "          [0.0000, 0.0000, 0.0000]]]),\n",
       " tensor([0.0180, 0.0240, 0.0000, 0.0240, 0.0240, 0.0000, 0.0240, 0.0700, 0.0000,\n",
       "         0.0300, 0.0240, 0.0240, 0.0240, 0.0240, 0.0240, 0.0000, 0.0000, 0.0000]),\n",
       " tensor([0.4700, 0.1960, 0.0000, 0.0000]),\n",
       " tensor([1.])]"
      ]
     },
     "execution_count": 7,
     "metadata": {},
     "output_type": "execute_result"
    }
   ],
   "source": [
    "snapshots[0]"
   ]
  },
  {
   "cell_type": "code",
   "execution_count": 31,
   "id": "45e2a186-0104-4495-b63d-150a2074fca0",
   "metadata": {},
   "outputs": [
    {
     "name": "stdout",
     "output_type": "stream",
     "text": [
      "Average loss in epoch 0 of generation 1: 6.561356283084562 + 4.8871760619718145 = 11.448532345056377.\n",
      "Average loss in epoch 1 of generation 1: 6.558689236798406 + 5.055233400807158 = 11.613922637605565.\n",
      "Average loss in epoch 2 of generation 1: 6.552462897495991 + 4.818212941879483 = 11.370675839375473.\n",
      "Average loss in epoch 3 of generation 1: 6.58380699693133 + 5.726263093605854 = 12.310070090537184.\n",
      "Average loss in epoch 4 of generation 1: 6.580648355156459 + 5.042597662938003 = 11.623246018094463.\n",
      "Average loss in epoch 5 of generation 1: 6.57219272308652 + 4.893622975388008 = 11.465815698474527.\n",
      "Average loss in epoch 6 of generation 1: 6.5676774232201725 + 5.062087929327794 = 11.629765352547967.\n",
      "Average loss in epoch 7 of generation 1: 6.5627007720649955 + 4.9325783017634 = 11.495279073828396.\n",
      "Average loss in epoch 8 of generation 1: 6.5601299905084085 + 5.041202742955801 = 11.60133273346421.\n",
      "Trainig was interrupted.\n"
     ]
    }
   ],
   "source": [
    "kl_losses = []\n",
    "mse_losses = []\n",
    "\n",
    "try:\n",
    "    for epoch in range(1000):\n",
    "        for states, wall_priors, step_priors, values in training_loader:\n",
    "            states = states.to(device)\n",
    "            wall_priors = wall_priors.to(device)\n",
    "            step_priors = step_priors.to(device)\n",
    "            values = values.to(device)\n",
    "    \n",
    "            optimizer.zero_grad()\n",
    "            wp, sp, vs = model.forward(states)\n",
    "            loss = sum(loss_fn(wp, sp, vs, wall_priors, step_priors, values))\n",
    "    \n",
    "            loss.backward()\n",
    "            optimizer.step()\n",
    "            del loss\n",
    "    \n",
    "        model.train(False)\n",
    "        total_kl_loss = 0\n",
    "        total_mse_loss = 0\n",
    "        for states, wall_priors, step_priors, values in eval_loader:\n",
    "            states = states.to(device)\n",
    "            wall_priors = wall_priors.to(device)\n",
    "            step_priors = step_priors.to(device)\n",
    "            values = values.to(device)\n",
    "            wp, sp, vs = model.forward(states)\n",
    "            kl_loss, mse_loss = loss_fn(wp, sp, vs, wall_priors, step_priors, values)\n",
    "            total_kl_loss += float(kl_loss)\n",
    "            total_mse_loss += float(mse_loss)\n",
    "        kl_losses.append(total_kl_loss / len(eval_loader))\n",
    "        mse_losses.append(total_mse_loss / len(eval_loader))\n",
    "        print(\n",
    "            f\"Average loss in epoch {epoch} of generation {generation}: {total_kl_loss / len(eval_loader)} + {total_mse_loss / len(eval_loader)} = {(total_kl_loss + total_mse_loss) / len(eval_loader)}.\"\n",
    "        )\n",
    "except KeyboardInterrupt:\n",
    "    print(\"Trainig was interrupted.\")"
   ]
  },
  {
   "cell_type": "code",
   "execution_count": 34,
   "id": "ced9ae19-cfea-4b36-9f0b-52d55b3379ef",
   "metadata": {},
   "outputs": [],
   "source": [
    "initial_state = torch.unsqueeze(snapshots[0][0], 0).to(device)"
   ]
  },
  {
   "cell_type": "code",
   "execution_count": 35,
   "id": "0da072fb-1e1b-4c9e-bb6b-9f607d1859ec",
   "metadata": {},
   "outputs": [
    {
     "data": {
      "text/plain": [
       "(tensor([[1.5199e-07, 1.0383e-12, 2.9369e-13, 1.0010e-07, 1.7205e-09, 2.9369e-13,\n",
       "          1.3715e-08, 1.0499e-13, 2.9369e-13, 2.2141e-09, 2.2504e-06, 2.1463e-13,\n",
       "          2.8910e-11, 1.6168e-11, 1.4175e-13, 2.9369e-13, 2.9369e-13, 2.9369e-13]],\n",
       "        device='cuda:0', grad_fn=<SigmoidBackward0>),\n",
       " tensor([[1.0000e+00, 9.9987e-01, 2.4577e-09, 2.3685e-10]], device='cuda:0',\n",
       "        grad_fn=<SigmoidBackward0>),\n",
       " tensor([[0.9366]], device='cuda:0', grad_fn=<TanhBackward0>))"
      ]
     },
     "execution_count": 35,
     "metadata": {},
     "output_type": "execute_result"
    }
   ],
   "source": [
    "model.forward(initial_state)"
   ]
  },
  {
   "cell_type": "code",
   "execution_count": 12,
   "id": "2818968e-0ccc-46cd-b003-6ebbdbc85d4e",
   "metadata": {},
   "outputs": [],
   "source": [
    "foo = []"
   ]
  },
  {
   "cell_type": "code",
   "execution_count": 13,
   "id": "239cb718-7b01-4146-ad8f-4ca7a6bc9069",
   "metadata": {},
   "outputs": [],
   "source": [
    "foo.append(3)"
   ]
  },
  {
   "cell_type": "code",
   "execution_count": 14,
   "id": "e950680a-79bc-48a9-b4f3-6d7593230d75",
   "metadata": {},
   "outputs": [
    {
     "data": {
      "text/plain": [
       "[3]"
      ]
     },
     "execution_count": 14,
     "metadata": {},
     "output_type": "execute_result"
    }
   ],
   "source": [
    "foo"
   ]
  },
  {
   "cell_type": "code",
   "execution_count": 21,
   "id": "f7d7d78a-a365-49db-acd5-9457152eb041",
   "metadata": {},
   "outputs": [],
   "source": [
    "save_model(model, models_folder)"
   ]
  },
  {
   "cell_type": "code",
   "execution_count": 23,
   "id": "c290bab1-960f-4e7d-968f-d99dd36769ca",
   "metadata": {},
   "outputs": [
    {
     "ename": "TypeError",
     "evalue": "'int' object is not iterable",
     "output_type": "error",
     "traceback": [
      "\u001b[0;31m---------------------------------------------------------------------------\u001b[0m",
      "\u001b[0;31mTypeError\u001b[0m                                 Traceback (most recent call last)",
      "Cell \u001b[0;32mIn[23], line 1\u001b[0m\n\u001b[0;32m----> 1\u001b[0m \u001b[38;5;28;43msum\u001b[39;49m\u001b[43m(\u001b[49m\u001b[38;5;241;43m1\u001b[39;49m\u001b[43m,\u001b[49m\u001b[43m \u001b[49m\u001b[38;5;241;43m2\u001b[39;49m\u001b[43m)\u001b[49m\n",
      "\u001b[0;31mTypeError\u001b[0m: 'int' object is not iterable"
     ]
    }
   ],
   "source": [
    "sum(1, 2)"
   ]
  },
  {
   "cell_type": "code",
   "execution_count": 24,
   "id": "a87d618c-72fc-4a99-9d9a-78d569fcacd9",
   "metadata": {},
   "outputs": [
    {
     "data": {
      "text/plain": [
       "3"
      ]
     },
     "execution_count": 24,
     "metadata": {},
     "output_type": "execute_result"
    }
   ],
   "source": [
    "sum((1, 2))"
   ]
  },
  {
   "cell_type": "code",
   "execution_count": 25,
   "id": "edaa56ee-2bde-421e-9d57-35fae43c0cb3",
   "metadata": {},
   "outputs": [],
   "source": [
    "x, y = 1, 2"
   ]
  },
  {
   "cell_type": "code",
   "execution_count": 26,
   "id": "a8027683-f2c4-4db0-8c0d-996ca58c8dbc",
   "metadata": {},
   "outputs": [
    {
     "ename": "SyntaxError",
     "evalue": "'tuple' is an illegal expression for augmented assignment (1979919024.py, line 1)",
     "output_type": "error",
     "traceback": [
      "\u001b[0;36m  Cell \u001b[0;32mIn[26], line 1\u001b[0;36m\u001b[0m\n\u001b[0;31m    x, y += 3, 4\u001b[0m\n\u001b[0m    ^\u001b[0m\n\u001b[0;31mSyntaxError\u001b[0m\u001b[0;31m:\u001b[0m 'tuple' is an illegal expression for augmented assignment\n"
     ]
    }
   ],
   "source": [
    "x, y += 3, 4"
   ]
  },
  {
   "cell_type": "code",
   "execution_count": null,
   "id": "0cd1cdeb-c0fa-459d-9331-da58e1c5d7e0",
   "metadata": {},
   "outputs": [],
   "source": []
  }
 ],
 "metadata": {
  "kernelspec": {
   "display_name": "Python 3 (ipykernel)",
   "language": "python",
   "name": "python3"
  },
  "language_info": {
   "codemirror_mode": {
    "name": "ipython",
    "version": 3
   },
   "file_extension": ".py",
   "mimetype": "text/x-python",
   "name": "python",
   "nbconvert_exporter": "python",
   "pygments_lexer": "ipython3",
   "version": "3.11.7"
  }
 },
 "nbformat": 4,
 "nbformat_minor": 5
}
